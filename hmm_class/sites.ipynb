{
 "cells": [
  {
   "cell_type": "code",
   "execution_count": 1,
   "metadata": {
    "collapsed": true
   },
   "outputs": [],
   "source": [
    "import numpy as np"
   ]
  },
  {
   "cell_type": "code",
   "execution_count": null,
   "metadata": {
    "collapsed": true
   },
   "outputs": [],
   "source": [
    "transitions = {}\n",
    "s_out_count = {}"
   ]
  },
  {
   "cell_type": "code",
   "execution_count": 7,
   "metadata": {
    "collapsed": true
   },
   "outputs": [],
   "source": [
    "#count rows\n",
    "for line in open('site_data.csv'):\n",
    "    s_pg, e_pg = line.strip().split(',')\n",
    "    transitions[(s_pg, e_pg)] = transitions.get((s_pg, e_pg), 0.) + 1\n",
    "    s_out_count[s_pg] = s_out_count.get(s_pg, 0.) +1"
   ]
  },
  {
   "cell_type": "code",
   "execution_count": 9,
   "metadata": {},
   "outputs": [],
   "source": [
    "#normalize\n",
    "for k, v in transitions.iteritems():\n",
    "    s, e = k\n",
    "    transitions[k] = float(v) / s_out_count[s]"
   ]
  },
  {
   "cell_type": "code",
   "execution_count": 13,
   "metadata": {},
   "outputs": [
    {
     "name": "stdout",
     "output_type": "stream",
     "text": [
      "initial state distribution\n",
      "('4', 0.10243239159993957)\n",
      "('6', 0.09800070504104345)\n",
      "('9', 0.10384247368686106)\n",
      "('0', 0.10298635241980159)\n",
      "('2', 0.09507982071813466)\n",
      "('5', 0.09779926474291183)\n",
      "('7', 0.09971294757516241)\n",
      "('1', 0.10348995316513068)\n",
      "('8', 0.10152591025834719)\n",
      "('3', 0.09513018079266758)\n"
     ]
    }
   ],
   "source": [
    "#initial state distribution\n",
    "print(\"initial state distribution\")\n",
    "for k, v in transitions.iteritems():\n",
    "    s, e = k\n",
    "    if s == '-1':\n",
    "        print(e,v)\n",
    "        "
   ]
  },
  {
   "cell_type": "code",
   "execution_count": 14,
   "metadata": {},
   "outputs": [
    {
     "name": "stdout",
     "output_type": "stream",
     "text": [
      "Bounce rate for 8: 0.125295508274\n",
      "Bounce rate for 3: 0.127433849226\n",
      "Bounce rate for 2: 0.12649551346\n",
      "Bounce rate for 7: 0.123716503882\n",
      "Bounce rate for 9: 0.131762321044\n",
      "Bounce rate for 6: 0.120815318098\n",
      "Bounce rate for 0: 0.12796735905\n",
      "Bounce rate for 4: 0.125575606721\n",
      "Bounce rate for 1: 0.125939617991\n",
      "Bounce rate for 5: 0.123695596844\n"
     ]
    }
   ],
   "source": [
    "# highest bounce rate\n",
    "for k, v in transitions.iteritems():\n",
    "    s, e = k\n",
    "    if e == 'B':\n",
    "        print(\"Bounce rate for {}: {}\".format(s, v))"
   ]
  }
 ],
 "metadata": {
  "kernelspec": {
   "display_name": "Python 2",
   "language": "python",
   "name": "python2"
  },
  "language_info": {
   "codemirror_mode": {
    "name": "ipython",
    "version": 2
   },
   "file_extension": ".py",
   "mimetype": "text/x-python",
   "name": "python",
   "nbconvert_exporter": "python",
   "pygments_lexer": "ipython2",
   "version": "2.7.6"
  }
 },
 "nbformat": 4,
 "nbformat_minor": 2
}
